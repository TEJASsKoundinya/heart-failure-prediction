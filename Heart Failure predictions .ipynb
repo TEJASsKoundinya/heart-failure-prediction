{
 "cells": [
  {
   "cell_type": "markdown",
   "id": "9875b1ba",
   "metadata": {},
   "source": [
    "# Heart Failure Predictions "
   ]
  },
  {
   "cell_type": "code",
   "execution_count": 1,
   "id": "31570d2e",
   "metadata": {},
   "outputs": [],
   "source": [
    "import pandas as pd\n",
    "import numpy as np\n",
    "import matplotlib.pyplot as plt\n",
    "import statistics"
   ]
  },
  {
   "cell_type": "code",
   "execution_count": 2,
   "id": "f1cf28c0",
   "metadata": {},
   "outputs": [],
   "source": [
    "Data = pd.read_csv(\"heart.csv\")"
   ]
  },
  {
   "cell_type": "code",
   "execution_count": 3,
   "id": "5df60690",
   "metadata": {},
   "outputs": [
    {
     "name": "stdout",
     "output_type": "stream",
     "text": [
      "     Age  Sex  ChestPainType  RestingBP  Cholesterol  FastingBS  RestingECG  \\\n",
      "0     40    1              1        140          289          0           0   \n",
      "1     49    0              2        160          180          0           0   \n",
      "2     37    1              1        130          283          0           1   \n",
      "3     48    0              3        138          214          0           0   \n",
      "4     54    1              2        150          195          0           0   \n",
      "..   ...  ...            ...        ...          ...        ...         ...   \n",
      "913   45    1              4        110          264          0           0   \n",
      "914   68    1              3        144          193          1           0   \n",
      "915   57    1              3        130          131          0           0   \n",
      "916   57    0              1        130          236          0           1   \n",
      "917   38    1              2        138          175          0           0   \n",
      "\n",
      "     MaxHR  ExerciseAngina  Oldpeak  ST_Slope  HeartDisease  \n",
      "0      172               0      0.0         1             0  \n",
      "1      156               0      1.0         0             1  \n",
      "2       98               0      0.0         1             0  \n",
      "3      108               1      1.5         0             1  \n",
      "4      122               0      0.0         1             0  \n",
      "..     ...             ...      ...       ...           ...  \n",
      "913    132               0      1.2         0             1  \n",
      "914    141               0      3.4         0             1  \n",
      "915    115               1      1.2         0             1  \n",
      "916    174               0      0.0         0             1  \n",
      "917    173               0      0.0         1             0  \n",
      "\n",
      "[918 rows x 12 columns]\n"
     ]
    }
   ],
   "source": [
    "Data['ExerciseAngina'] = Data['ExerciseAngina'].replace('N',0)#0 is No\n",
    "Data['ExerciseAngina'] = Data['ExerciseAngina'].replace('Y',1)#1 is yes\n",
    "Data['Sex'] = Data['Sex'].replace('F',0)#0 is female\n",
    "Data['Sex'] = Data['Sex'].replace('M',1)#1 is male\n",
    "Data['ST_Slope'] = Data['ST_Slope'].replace('Up',1)\n",
    "Data['ST_Slope'] = Data['ST_Slope'].replace('Flat',0)\n",
    "Data['ST_Slope'] = Data['ST_Slope'].replace('Down',-1)\n",
    "Data['RestingECG'] = Data['RestingECG'].replace('Normal',0)\n",
    "Data['RestingECG'] = Data['RestingECG'].replace('ST',1)\n",
    "Data['RestingECG'] = Data['RestingECG'].replace('LVH',1)\n",
    "Data['ChestPainType'] = Data['ChestPainType'].replace('ATA',1)\n",
    "Data['ChestPainType'] = Data['ChestPainType'].replace('NAP',2)\n",
    "Data['ChestPainType'] = Data['ChestPainType'].replace('ASY',3)\n",
    "Data['ChestPainType'] = Data['ChestPainType'].replace('TA',4)\n",
    "print(Data)"
   ]
  },
  {
   "cell_type": "code",
   "execution_count": 4,
   "id": "c39df4a8",
   "metadata": {},
   "outputs": [],
   "source": [
    "y = Data.iloc[:, -1].values\n",
    "x = Data.iloc[:,0:-1].values"
   ]
  },
  {
   "cell_type": "code",
   "execution_count": 5,
   "id": "61c4903f",
   "metadata": {},
   "outputs": [],
   "source": [
    "from sklearn.model_selection import train_test_split\n",
    "x_train, x_test, y_train, y_test = train_test_split(x, y, test_size = 0.25, random_state = 0)\n"
   ]
  },
  {
   "cell_type": "markdown",
   "id": "6d86c4e7",
   "metadata": {},
   "source": [
    "Decision Tree Classifier"
   ]
  },
  {
   "cell_type": "code",
   "execution_count": 10,
   "id": "30c3b86e",
   "metadata": {},
   "outputs": [],
   "source": [
    "from sklearn.tree import DecisionTreeClassifier\n",
    "clf = DecisionTreeClassifier()\n",
    "clf = clf.fit(x_train,y_train)\n",
    "y_pred = clf.predict(x_test)"
   ]
  },
  {
   "cell_type": "code",
   "execution_count": 11,
   "id": "a0a80c75",
   "metadata": {},
   "outputs": [
    {
     "name": "stdout",
     "output_type": "stream",
     "text": [
      "[[ 72  20]\n",
      " [ 22 116]]\n",
      "Accuracy: 0.8173913043478261\n"
     ]
    }
   ],
   "source": [
    "from sklearn import metrics\n",
    "from sklearn.metrics import confusion_matrix\n",
    "\n",
    "cm = confusion_matrix(y_test,y_pred)\n",
    "print(cm)\n",
    "print(\"Accuracy:\",metrics.accuracy_score(y_test, y_pred))"
   ]
  },
  {
   "cell_type": "markdown",
   "id": "5cd5337b",
   "metadata": {},
   "source": [
    "Random Forest Classifier"
   ]
  },
  {
   "cell_type": "code",
   "execution_count": 6,
   "id": "f70cbe2f",
   "metadata": {},
   "outputs": [],
   "source": [
    "from sklearn.ensemble import RandomForestClassifier\n",
    "classification = RandomForestClassifier(n_estimators=150,criterion = 'entropy', random_state = 0)\n",
    "regressor = classification .fit(x_train, y_train)\n",
    "y_pred_reg = regressor.predict(x_test)"
   ]
  },
  {
   "cell_type": "code",
   "execution_count": 7,
   "id": "97b7b50c",
   "metadata": {
    "scrolled": true
   },
   "outputs": [
    {
     "name": "stdout",
     "output_type": "stream",
     "text": [
      "Accuracy: 0.8652173913043478\n",
      "[[ 73  19]\n",
      " [ 12 126]]\n"
     ]
    }
   ],
   "source": [
    "from sklearn import metrics\n",
    "from sklearn.metrics import confusion_matrix\n",
    "\n",
    "print(\"Accuracy:\",metrics.accuracy_score(y_test, y_pred_reg))\n",
    "pm = confusion_matrix(y_test,y_pred_reg)\n",
    "print(pm)"
   ]
  },
  {
   "cell_type": "code",
   "execution_count": 8,
   "id": "f331d6f9",
   "metadata": {},
   "outputs": [
    {
     "data": {
      "text/plain": [
       "Text(0, 0.5, 'Testing Accuracy')"
      ]
     },
     "execution_count": 8,
     "metadata": {},
     "output_type": "execute_result"
    },
    {
     "data": {
      "image/png": "[encoded data removed]",
      "text/plain": [
       "<Figure size 432x288 with 1 Axes>"
      ]
     },
     "metadata": {
      "needs_background": "light"
     },
     "output_type": "display_data"
    }
   ],
   "source": [
    "from sklearn.ensemble import RandomForestClassifier\n",
    "from sklearn.metrics import accuracy_score\n",
    "scores =[]\n",
    "for k in range(1, 200):\n",
    "    rfc = RandomForestClassifier(n_estimators=k)\n",
    "    rfc.fit(x_train, y_train)\n",
    "    y_pred = rfc.predict(x_test)\n",
    "    scores.append(accuracy_score(y_test, y_pred))\n",
    "\n",
    "# plot the relationship between K and testing accuracy\n",
    "import matplotlib.pyplot as plt\n",
    "%matplotlib inline\n",
    "plt.plot(range(1, 200), scores)\n",
    "plt.xlabel('Value of n_estimators for Random Forest Classifier')\n",
    "plt.ylabel('Testing Accuracy')\n"
   ]
  },
  {
   "cell_type": "code",
   "execution_count": 9,
   "id": "f6296527",
   "metadata": {},
   "outputs": [],
   "source": [
    "import pickle\n",
    "file = open('class.pkl','wb')\n",
    "pickle.dump(regressor, file)"
   ]
  },
  {
   "cell_type": "markdown",
   "id": "208a110a",
   "metadata": {},
   "source": [
    "-------------------------*Exporting the ML-classification model*--------------------------- "
   ]
  }
 ],
 "metadata": {
  "kernelspec": {
   "display_name": "Python 3",
   "language": "python",
   "name": "python3"
  },
  "language_info": {
   "codemirror_mode": {
    "name": "ipython",
    "version": 3
   },
   "file_extension": ".py",
   "mimetype": "text/x-python",
   "name": "python",
   "nbconvert_exporter": "python",
   "pygments_lexer": "ipython3",
   "version": "3.8.5"
  }
 },
 "nbformat": 4,
 "nbformat_minor": 5
}
